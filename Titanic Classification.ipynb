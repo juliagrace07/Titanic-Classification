{
 "cells": [
  {
   "cell_type": "code",
   "execution_count": 1,
   "id": "2d1537c2",
   "metadata": {},
   "outputs": [
    {
     "name": "stderr",
     "output_type": "stream",
     "text": [
      "C:\\Users\\julia\\AppData\\Local\\Temp\\ipykernel_66220\\3320726999.py:10: FutureWarning: The default value of numeric_only in DataFrame.mean is deprecated. In a future version, it will default to False. In addition, specifying 'numeric_only=None' is deprecated. Select only valid columns or specify the value of numeric_only to silence this warning.\n",
      "  data.fillna(data.mean(), inplace=True)  # Replace missing values with the mean\n"
     ]
    },
    {
     "name": "stdout",
     "output_type": "stream",
     "text": [
      "Enter Pclass (1, 2, or 3): 2\n",
      "Enter Age: 37\n",
      "Enter Sex (male or female): female\n",
      "Prediction: Survived\n"
     ]
    }
   ],
   "source": [
    "import pandas as pd\n",
    "from sklearn.ensemble import RandomForestClassifier\n",
    "\n",
    "# Load the Titanic dataset (replace 'path_to_dataset.csv' with your actual dataset path)\n",
    "data = pd.read_csv('Titanic-Dataset.csv')\n",
    "\n",
    "# Preprocess the data, drop irrelevant columns and handle missing values if needed\n",
    "# For this example, we'll assume 'Survived' is the target variable and socio-economic status,\n",
    "# age, and gender are relevant features.\n",
    "data.fillna(data.mean(), inplace=True)  # Replace missing values with the mean\n",
    "\n",
    "X = data[['Pclass', 'Age', 'Sex']]\n",
    "y = data['Survived']\n",
    "\n",
    "# Convert categorical variables to numerical using one-hot encoding for 'Sex'\n",
    "X = pd.get_dummies(X, drop_first=True)\n",
    "\n",
    "# Create and train a Random Forest classifier\n",
    "classifier = RandomForestClassifier()\n",
    "classifier.fit(X, y)\n",
    "\n",
    "# Function to predict survival based on user input\n",
    "def predict_survival(pclass, age, sex):\n",
    "    # Convert user input to dataframe with proper format\n",
    "    user_input = pd.DataFrame({\n",
    "        'Pclass': [pclass],\n",
    "        'Age': [age],\n",
    "        'Sex_male': [1 if sex.lower() == 'male' else 0]\n",
    "    })\n",
    "\n",
    "    # Make prediction\n",
    "    prediction = classifier.predict(user_input)\n",
    "\n",
    "    if prediction[0] == 1:\n",
    "        return \"Survived\"\n",
    "    else:\n",
    "        return \"Not Survived\"\n",
    "\n",
    "# User input\n",
    "pclass_input = int(input(\"Enter Pclass (1, 2, or 3): \"))\n",
    "age_input = float(input(\"Enter Age: \"))\n",
    "sex_input = input(\"Enter Sex (male or female): \")\n",
    "\n",
    "# Predict survival\n",
    "result = predict_survival(pclass_input, age_input, sex_input)\n",
    "print(\"Prediction:\", result)\n"
   ]
  },
  {
   "cell_type": "code",
   "execution_count": null,
   "id": "3687e8aa",
   "metadata": {},
   "outputs": [],
   "source": []
  }
 ],
 "metadata": {
  "kernelspec": {
   "display_name": "Python 3 (ipykernel)",
   "language": "python",
   "name": "python3"
  },
  "language_info": {
   "codemirror_mode": {
    "name": "ipython",
    "version": 3
   },
   "file_extension": ".py",
   "mimetype": "text/x-python",
   "name": "python",
   "nbconvert_exporter": "python",
   "pygments_lexer": "ipython3",
   "version": "3.10.9"
  }
 },
 "nbformat": 4,
 "nbformat_minor": 5
}
